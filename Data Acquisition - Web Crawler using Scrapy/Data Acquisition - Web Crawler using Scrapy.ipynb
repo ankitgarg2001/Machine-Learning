{
 "cells": [
  {
   "cell_type": "markdown",
   "id": "39335805",
   "metadata": {},
   "source": [
    "# <span style=\"color:green\">Scrapy</span>\n",
    "- An open source and collaboative framework for extracting the data you need from websites"
   ]
  },
  {
   "cell_type": "code",
   "execution_count": 1,
   "id": "535f377c",
   "metadata": {},
   "outputs": [
    {
     "name": "stdout",
     "output_type": "stream",
     "text": [
      "New Scrapy project 'myproject', using template directory 'C:\\Users\\ASUS\\AppData\\Local\\Programs\\Python\\Python39\\lib\\site-packages\\scrapy\\templates\\project', created in:\n",
      "    C:\\Users\\ASUS\\Desktop\\Data Acquisition - Web Crawler using Scrapy\\myproject\n",
      "\n",
      "You can start your first spider with:\n",
      "    cd myproject\n",
      "    scrapy genspider example example.com\n"
     ]
    }
   ],
   "source": [
    "!scrapy startproject myproject"
   ]
  },
  {
   "cell_type": "code",
   "execution_count": null,
   "id": "20fa8576",
   "metadata": {},
   "outputs": [],
   "source": []
  }
 ],
 "metadata": {
  "kernelspec": {
   "display_name": "Python 3 (ipykernel)",
   "language": "python",
   "name": "python3"
  },
  "language_info": {
   "codemirror_mode": {
    "name": "ipython",
    "version": 3
   },
   "file_extension": ".py",
   "mimetype": "text/x-python",
   "name": "python",
   "nbconvert_exporter": "python",
   "pygments_lexer": "ipython3",
   "version": "3.9.6"
  }
 },
 "nbformat": 4,
 "nbformat_minor": 5
}
