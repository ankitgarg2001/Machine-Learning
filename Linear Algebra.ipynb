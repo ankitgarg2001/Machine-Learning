{
 "cells": [
  {
   "cell_type": "markdown",
   "id": "2473570e",
   "metadata": {},
   "source": [
    "# Tensor\n",
    " - A numpy array which has more than 2 axis\n",
    " - It contains more than 1 channel. Eg is an RGB Image"
   ]
  },
  {
   "cell_type": "code",
   "execution_count": 2,
   "id": "e1b5b946",
   "metadata": {},
   "outputs": [],
   "source": [
    "import numpy as np\n",
    "import matplotlib.pyplot as plt"
   ]
  },
  {
   "cell_type": "code",
   "execution_count": 3,
   "id": "8c224592",
   "metadata": {},
   "outputs": [
    {
     "name": "stdout",
     "output_type": "stream",
     "text": [
      "[[[0 0 0]\n",
      "  [0 0 0]\n",
      "  [0 0 0]\n",
      "  [0 0 0]\n",
      "  [0 0 0]]\n",
      "\n",
      " [[0 0 0]\n",
      "  [0 0 0]\n",
      "  [0 0 0]\n",
      "  [0 0 0]\n",
      "  [0 0 0]]\n",
      "\n",
      " [[0 0 0]\n",
      "  [0 0 0]\n",
      "  [0 0 0]\n",
      "  [0 0 0]\n",
      "  [0 0 0]]\n",
      "\n",
      " [[0 0 0]\n",
      "  [0 0 0]\n",
      "  [0 0 0]\n",
      "  [0 0 0]\n",
      "  [0 0 0]]\n",
      "\n",
      " [[0 0 0]\n",
      "  [0 0 0]\n",
      "  [0 0 0]\n",
      "  [0 0 0]\n",
      "  [0 0 0]]]\n"
     ]
    },
    {
     "data": {
      "image/png": "[encoded data removed]",
      "text/plain": [
       "<Figure size 432x288 with 1 Axes>"
      ]
     },
     "metadata": {
      "needs_background": "light"
     },
     "output_type": "display_data"
    }
   ],
   "source": [
    "T = np.zeros((5,5,3), dtype=np.uint8)\n",
    "print(T)\n",
    "T[0][0][0] = 255\n",
    "plt.imshow(T)\n",
    "plt.show()"
   ]
  },
  {
   "cell_type": "markdown",
   "id": "0ac3a40c",
   "metadata": {},
   "source": [
    "# Transpose\n",
    "- When we exchange the elements along diagonal or the rows becomes columns and columns becomes rows"
   ]
  },
  {
   "cell_type": "code",
   "execution_count": 4,
   "id": "2a0a66cb",
   "metadata": {},
   "outputs": [
    {
     "name": "stdout",
     "output_type": "stream",
     "text": [
      "[[1 2]\n",
      " [3 4]]\n",
      "[[1 3]\n",
      " [2 4]]\n"
     ]
    }
   ],
   "source": [
    "x = np.array([[1,2],[3,4]])\n",
    "print(x)\n",
    "print(x.T) # Transpose of the matrix "
   ]
  },
  {
   "cell_type": "code",
   "execution_count": 5,
   "id": "c4271573",
   "metadata": {},
   "outputs": [
    {
     "name": "stdout",
     "output_type": "stream",
     "text": [
      "(50, 25, 3)\n",
      "(3, 50, 25)\n",
      "(3,)\n",
      "(25,)\n"
     ]
    }
   ],
   "source": [
    "#Transpose of a tensor \n",
    "T = np.zeros((50,25,3))\n",
    "T1 = np.transpose(T,axes = (2,0,1))\n",
    "\n",
    "print(T.shape)\n",
    "print(T1.shape)\n",
    "\n",
    "print(T[0][0].shape)\n",
    "print(T1[0][0].shape)"
   ]
  },
  {
   "cell_type": "markdown",
   "id": "32b94ae7",
   "metadata": {},
   "source": [
    "# Broadcasting\n",
    "- when you add a scalar to vector numpy will add that scalar to each element.\n",
    "$$x + a = x_{i} + a$$\n",
    "- Similary if we add vector to a matrix numpy will add the vector to each of its column."
   ]
  },
  {
   "cell_type": "code",
   "execution_count": 6,
   "id": "d9b45eb2",
   "metadata": {},
   "outputs": [
    {
     "name": "stdout",
     "output_type": "stream",
     "text": [
      "[1 2 3 4]\n",
      "[5 6 7 8]\n"
     ]
    }
   ],
   "source": [
    "x = np.array([1,2,3,4])\n",
    "print(x)\n",
    "print(x + 4)"
   ]
  },
  {
   "cell_type": "code",
   "execution_count": 7,
   "id": "4fb88b23",
   "metadata": {},
   "outputs": [
    {
     "name": "stdout",
     "output_type": "stream",
     "text": [
      "[[10 20 30 40]\n",
      " [50 60 70 80]]\n",
      "[[11 22 33 44]\n",
      " [51 62 73 84]]\n"
     ]
    }
   ],
   "source": [
    "X = np.array([[10,20,30,40],[50,60,70,80]])\n",
    "print(X)\n",
    "print(X + x)"
   ]
  },
  {
   "cell_type": "markdown",
   "id": "398d4a5f",
   "metadata": {},
   "source": [
    "# Norms\n",
    "- Norm can be defined as the proxy for size of a vector\n",
    " We define L<sup>p</sup> norm as $$||x||_{p} = (\\sum|x_{i}|^{p})^{\\frac{1}{p}}$$\n",
    " \n",
    "\n",
    "- Norm is a function that maps vectors to non-negative values. A norm satisfies the following properties:\n",
    "    - f(x) = 0 => x = 0\n",
    "    - f(x+y) $\\leq$ f(x)+f(y) (Triangle property)\n",
    "    - $\\forall$ $\\alpha$ $\\epsilon$ $\\mathbf{R}$, f($\\alpha$ x) = |$\\alpha$| f(x)\n",
    "\n",
    "\n",
    "- L<sup>2</sup> norm is called the Euclidean norm ||x||\n",
    "    - This norm can also be computed as x<sup>T</sup>x\n",
    "    - Its derivative is 2*x\n",
    "\n",
    "<b>Max-Norm:</b> L<sup>$\\infty$</sup>: This simplifies to absolute value of the element with highest magnitude "
   ]
  },
  {
   "cell_type": "code",
   "execution_count": 12,
   "id": "57f3564a",
   "metadata": {},
   "outputs": [
    {
     "name": "stdout",
     "output_type": "stream",
     "text": [
      "5.0\n",
      "7.0\n",
      "4.0\n"
     ]
    }
   ],
   "source": [
    "x = np.array([-3,4])\n",
    "lp2 = np.linalg.norm(x)\n",
    "print(lp2)\n",
    "\n",
    "lp1 = np.linalg.norm(x,ord=1)\n",
    "print(lp1)\n",
    "\n",
    "lpinf = np.linalg.norm(x,ord = np.inf)\n",
    "print(lpinf)"
   ]
  },
  {
   "cell_type": "markdown",
   "id": "7d8b0f9c",
   "metadata": {},
   "source": [
    "# Determinant"
   ]
  },
  {
   "cell_type": "code",
   "execution_count": 21,
   "id": "25b0d2e9",
   "metadata": {},
   "outputs": [
    {
     "data": {
      "text/plain": [
       "-2.0000000000000004"
      ]
     },
     "execution_count": 21,
     "metadata": {},
     "output_type": "execute_result"
    }
   ],
   "source": [
    "A = np.array([[1,2],\n",
    "              [3,4]])\n",
    "\n",
    "np.linalg.det(A)"
   ]
  },
  {
   "cell_type": "markdown",
   "id": "f2fe7c47",
   "metadata": {},
   "source": [
    "# Inverse"
   ]
  },
  {
   "cell_type": "code",
   "execution_count": 22,
   "id": "520ae647",
   "metadata": {},
   "outputs": [
    {
     "name": "stdout",
     "output_type": "stream",
     "text": [
      "[[-2.   1. ]\n",
      " [ 1.5 -0.5]]\n",
      "[[1.0000000e+00 0.0000000e+00]\n",
      " [8.8817842e-16 1.0000000e+00]]\n",
      "[[0.5 0. ]\n",
      " [0.5 0. ]]\n"
     ]
    }
   ],
   "source": [
    "Ainv = np.linalg.inv(A)\n",
    "print(Ainv)\n",
    "print(np.dot(A,Ainv))\n",
    "\n",
    "# When a matrix has a zero determinant then we can calculate something called as pseudoInverse\n",
    "A = np.array([[1,1],\n",
    "              [0,0]])\n",
    "print(np.linalg.pinv(A))"
   ]
  },
  {
   "cell_type": "code",
   "execution_count": 23,
   "id": "2cdbc08f",
   "metadata": {},
   "outputs": [
    {
     "name": "stdout",
     "output_type": "stream",
     "text": [
      "[[1. 0.]\n",
      " [0. 0.]]\n"
     ]
    }
   ],
   "source": [
    "print(np.dot(A,np.linalg.pinv(A)))"
   ]
  },
  {
   "cell_type": "markdown",
   "id": "b9129696",
   "metadata": {},
   "source": [
    "# Solve A System Of Linear Equation"
   ]
  },
  {
   "cell_type": "code",
   "execution_count": 25,
   "id": "f6f069af",
   "metadata": {},
   "outputs": [
    {
     "name": "stdout",
     "output_type": "stream",
     "text": [
      "[1. 2.]\n"
     ]
    }
   ],
   "source": [
    "a = np.array([[2,3],[3,1]])\n",
    "b = np.array([8,5])\n",
    "print(np.linalg.solve(a,b))"
   ]
  },
  {
   "cell_type": "code",
   "execution_count": null,
   "id": "df0e069e",
   "metadata": {},
   "outputs": [],
   "source": []
  }
 ],
 "metadata": {
  "kernelspec": {
   "display_name": "Python 3 (ipykernel)",
   "language": "python",
   "name": "python3"
  },
  "language_info": {
   "codemirror_mode": {
    "name": "ipython",
    "version": 3
   },
   "file_extension": ".py",
   "mimetype": "text/x-python",
   "name": "python",
   "nbconvert_exporter": "python",
   "pygments_lexer": "ipython3",
   "version": "3.9.6"
  }
 },
 "nbformat": 4,
 "nbformat_minor": 5
}
