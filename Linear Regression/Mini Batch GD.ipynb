{
 "cells": [
  {
   "cell_type": "code",
   "execution_count": 1,
   "id": "f281e355",
   "metadata": {},
   "outputs": [],
   "source": [
    "from sklearn.datasets import make_regression\n",
    "from sklearn import linear_model\n",
    "import matplotlib.pyplot as plt\n",
    "import pandas as pd\n",
    "import numpy as np"
   ]
  },
  {
   "cell_type": "code",
   "execution_count": 2,
   "id": "2340db05",
   "metadata": {},
   "outputs": [],
   "source": [
    "X,y = make_regression(n_samples = 10000,n_features=20,n_informative=20,noise=10,random_state=1)\n",
    "#Normalisation\n",
    "u = np.mean(X,axis=0)\n",
    "std = np.std(X,axis=0)\n",
    "X = (X-u)/std"
   ]
  },
  {
   "cell_type": "code",
   "execution_count": 3,
   "id": "5451e97f",
   "metadata": {},
   "outputs": [
    {
     "name": "stdout",
     "output_type": "stream",
     "text": [
      "(10000, 21)\n",
      "(10000,)\n"
     ]
    }
   ],
   "source": [
    "ones = np.ones((X.shape[0],1))\n",
    "X = np.hstack((ones,X))\n",
    "print(X.shape)\n",
    "print(y.shape)"
   ]
  },
  {
   "cell_type": "code",
   "execution_count": 25,
   "id": "3eaa982e",
   "metadata": {},
   "outputs": [],
   "source": [
    "def hypothesis(X,theta):\n",
    "    return np.dot(X,theta)\n",
    "\n",
    "def error(X,y,theta):\n",
    "    y_ = hypothesis(X,theta)\n",
    "    e = np.sum((y_-y)**2)\n",
    "    \n",
    "    return e/X.shape[0]\n",
    "\n",
    "def gradient(X,y,theta):\n",
    "    grad = np.zeros((X.shape[1],))\n",
    "    y_ = hypothesis(X,theta)\n",
    "    grad = np.dot(X.T,y_-y)\n",
    "    return grad/X.shape[0]\n",
    "\n",
    "def gradientDescent(X,Y,max_steps=10,learning_rate=0.01):\n",
    "    theta = np.zeros((X.shape[1],))\n",
    "    batch_size = 200\n",
    "    no_of_batch = X.shape[0]//batch_size\n",
    "    error_list = []\n",
    "    data = np.hstack((X,Y.reshape(-1,1)))\n",
    "    for i in range(max_steps):\n",
    "        np.random.shuffle(data)\n",
    "        for j in range (no_of_batch):\n",
    "            grad = gradient(data[j*batch_size:j*batch_size+batch_size,:-1],data[j*batch_size:j*batch_size+batch_size,-1],theta)\n",
    "            theta = theta - learning_rate*grad\n",
    "            e = error(data[j*batch_size:j*batch_size+batch_size,:-1],data[j*batch_size:j*batch_size+batch_size,-1],theta)\n",
    "            error_list.append(e)\n",
    "    return theta,error_list\n",
    "            "
   ]
  },
  {
   "cell_type": "code",
   "execution_count": 26,
   "id": "2e91ea61",
   "metadata": {},
   "outputs": [],
   "source": [
    "theta,error_list = gradientDescent(X,y)"
   ]
  },
  {
   "cell_type": "code",
   "execution_count": 27,
   "id": "b7add4e4",
   "metadata": {},
   "outputs": [
    {
     "data": {
      "image/png": "[encoded data removed]",
      "text/plain": [
       "<Figure size 432x288 with 1 Axes>"
      ]
     },
     "metadata": {
      "needs_background": "light"
     },
     "output_type": "display_data"
    }
   ],
   "source": [
    "plt.plot(error_list)\n",
    "plt.show()"
   ]
  },
  {
   "cell_type": "code",
   "execution_count": 28,
   "id": "156df7bc",
   "metadata": {},
   "outputs": [
    {
     "data": {
      "text/plain": [
       "92.78342174556593"
      ]
     },
     "execution_count": 28,
     "metadata": {},
     "output_type": "execute_result"
    }
   ],
   "source": [
    "error_list[-1]"
   ]
  },
  {
   "cell_type": "code",
   "execution_count": null,
   "id": "b54d3ac3",
   "metadata": {},
   "outputs": [],
   "source": []
  }
 ],
 "metadata": {
  "kernelspec": {
   "display_name": "Python 3 (ipykernel)",
   "language": "python",
   "name": "python3"
  },
  "language_info": {
   "codemirror_mode": {
    "name": "ipython",
    "version": 3
   },
   "file_extension": ".py",
   "mimetype": "text/x-python",
   "name": "python",
   "nbconvert_exporter": "python",
   "pygments_lexer": "ipython3",
   "version": "3.9.6"
  }
 },
 "nbformat": 4,
 "nbformat_minor": 5
}
