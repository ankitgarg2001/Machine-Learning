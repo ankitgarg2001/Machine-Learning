{
 "cells": [
  {
   "cell_type": "code",
   "execution_count": 7,
   "id": "38fabb0c",
   "metadata": {},
   "outputs": [],
   "source": [
    "from selenium import webdriver"
   ]
  },
  {
   "cell_type": "code",
   "execution_count": 8,
   "id": "cba32b25",
   "metadata": {},
   "outputs": [],
   "source": [
    "browser = webdriver.Chrome()"
   ]
  },
  {
   "cell_type": "code",
   "execution_count": 28,
   "id": "e53862e2",
   "metadata": {},
   "outputs": [],
   "source": [
    "browser.get(\"https://codechef.com\")"
   ]
  },
  {
   "cell_type": "code",
   "execution_count": 29,
   "id": "0c6bf3d8",
   "metadata": {},
   "outputs": [
    {
     "name": "stderr",
     "output_type": "stream",
     "text": [
      "C:\\Users\\ASUS\\AppData\\Local\\Temp/ipykernel_21176/482661968.py:1: DeprecationWarning: find_element_by_xpath is deprecated. Please use find_element(by=By.XPATH, value=xpath) instead\n",
      "  browser.find_element_by_xpath(\"//button[@class='m-login-button']\").click()\n"
     ]
    }
   ],
   "source": [
    "browser.find_element_by_xpath(\"//button[@class='m-login-button']\").click()"
   ]
  },
  {
   "cell_type": "code",
   "execution_count": 33,
   "id": "6ce23467",
   "metadata": {},
   "outputs": [
    {
     "name": "stderr",
     "output_type": "stream",
     "text": [
      "C:\\Users\\ASUS\\AppData\\Local\\Temp/ipykernel_21176/3830099594.py:1: DeprecationWarning: find_element_by_xpath is deprecated. Please use find_element(by=By.XPATH, value=xpath) instead\n",
      "  username_element = browser.find_element_by_xpath(\"//input[@id='edit-name']\")\n"
     ]
    }
   ],
   "source": [
    "username_element = browser.find_element_by_xpath(\"//input[@id='edit-name']\")"
   ]
  },
  {
   "cell_type": "code",
   "execution_count": 57,
   "id": "5adeb893",
   "metadata": {},
   "outputs": [],
   "source": [
    "browser.execute_script('document.getElementByclassname(\"edit-name\").value = \"ankit19146\"')"
   ]
  },
  {
   "cell_type": "code",
   "execution_count": null,
   "id": "7ee4529c",
   "metadata": {},
   "outputs": [],
   "source": []
  },
  {
   "cell_type": "code",
   "execution_count": null,
   "id": "948edcb4",
   "metadata": {},
   "outputs": [],
   "source": []
  }
 ],
 "metadata": {
  "kernelspec": {
   "display_name": "Python 3 (ipykernel)",
   "language": "python",
   "name": "python3"
  },
  "language_info": {
   "codemirror_mode": {
    "name": "ipython",
    "version": 3
   },
   "file_extension": ".py",
   "mimetype": "text/x-python",
   "name": "python",
   "nbconvert_exporter": "python",
   "pygments_lexer": "ipython3",
   "version": "3.9.6"
  }
 },
 "nbformat": 4,
 "nbformat_minor": 5
}
